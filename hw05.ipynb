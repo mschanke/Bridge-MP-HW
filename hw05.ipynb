{
  "nbformat": 4,
  "nbformat_minor": 0,
  "metadata": {
    "colab": {
      "name": "hw05.ipynb",
      "provenance": [],
      "collapsed_sections": [],
      "authorship_tag": "ABX9TyPkvDm0PzRw5n3r9UQPpGf7",
      "include_colab_link": true
    },
    "kernelspec": {
      "name": "python3",
      "display_name": "Python 3"
    },
    "language_info": {
      "name": "python"
    }
  },
  "cells": [
    {
      "cell_type": "markdown",
      "metadata": {
        "id": "view-in-github",
        "colab_type": "text"
      },
      "source": [
        "<a href=\"https://colab.research.google.com/github/mschanke/Bridge-MP-HW/blob/main/hw05.ipynb\" target=\"_parent\"><img src=\"https://colab.research.google.com/assets/colab-badge.svg\" alt=\"Open In Colab\"/></a>"
      ]
    },
    {
      "cell_type": "code",
      "execution_count": 2,
      "metadata": {
        "colab": {
          "base_uri": "https://localhost:8080/"
        },
        "id": "cYpm5N7Qle9F",
        "outputId": "55bd6da2-579b-44ae-ef78-2161366930e8"
      },
      "outputs": [
        {
          "output_type": "stream",
          "name": "stdout",
          "text": [
            "5.37\n",
            "2.936\n",
            "3.0079\n",
            "3.00291\n",
            "3.003968\n"
          ]
        }
      ],
      "source": [
        "import random\n",
        "\n",
        "t=0\n",
        "\n",
        "for i in range(99, 0, -1):\n",
        "   t += random.randrange(1,10)\n",
        "\n",
        "print( t/100 )\n",
        "\n",
        "t=0\n",
        "\n",
        "for i in range(999, 0, -1):\n",
        "   t += random.randrange(1,6)\n",
        "\n",
        "print( t/1000)\n",
        "\n",
        "t = 0\n",
        "\n",
        "for i in range(9999, 0, -1):\n",
        "   t += random.randrange(1,6)\n",
        "\n",
        "print( t/10000 )\n",
        "\n",
        "t = 0\n",
        "\n",
        "for i in range(99999, 0, -1):\n",
        "   t += random.randrange(1,6)\n",
        "\n",
        "print( t/100000 )\n",
        "\n",
        "t = 0\n",
        "\n",
        "for i in range(499999, 0, -1):\n",
        "   t += random.randrange(1,6)\n",
        "\n",
        "print( t/500000 )\n",
        "\n"
      ]
    }
  ]
}