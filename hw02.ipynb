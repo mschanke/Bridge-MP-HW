{
  "nbformat": 4,
  "nbformat_minor": 0,
  "metadata": {
    "colab": {
      "name": "hw02.ipynb",
      "provenance": [],
      "authorship_tag": "ABX9TyPR+CLnABwT2tfZ3azLECZx",
      "include_colab_link": true
    },
    "kernelspec": {
      "name": "python3",
      "display_name": "Python 3"
    },
    "language_info": {
      "name": "python"
    }
  },
  "cells": [
    {
      "cell_type": "markdown",
      "metadata": {
        "id": "view-in-github",
        "colab_type": "text"
      },
      "source": [
        "<a href=\"https://colab.research.google.com/github/mschanke/Bridge-MP-HW/blob/main/hw02.ipynb\" target=\"_parent\"><img src=\"https://colab.research.google.com/assets/colab-badge.svg\" alt=\"Open In Colab\"/></a>"
      ]
    },
    {
      "cell_type": "code",
      "execution_count": null,
      "metadata": {
        "colab": {
          "base_uri": "https://localhost:8080/"
        },
        "id": "OCIJELkh9vpE",
        "outputId": "8cc1bbfb-9c46-445a-ec36-5b2f3149c6d3"
      },
      "outputs": [
        {
          "output_type": "stream",
          "name": "stdout",
          "text": [
            "x=-1 y=0\n",
            "x=1 y=4\n",
            "x=2 y=9\n",
            "x=3 y=16\n",
            "x=4 y=25\n",
            "x=5 y=36\n"
          ]
        }
      ],
      "source": [
        "# Mitchell Schanke\n",
        "# Bridge workshop  Math with Python\n",
        "# 7/14/2022      HW02\n",
        "\n",
        "x_values = [-1, 1, 2, 3, 4, 5]\n",
        "for x in x_values:\n",
        "    # Calculate the value of the quadratic function\n",
        "    y = x**2 + 2*x + 1\n",
        "    print('x={0} y={1}'.format(x, y))"
      ]
    }
  ]
}