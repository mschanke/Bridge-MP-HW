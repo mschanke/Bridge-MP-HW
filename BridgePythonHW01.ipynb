{
  "nbformat": 4,
  "nbformat_minor": 0,
  "metadata": {
    "colab": {
      "name": "BridgePythonHW01.ipynb",
      "provenance": [],
      "authorship_tag": "ABX9TyPQCddto2i2b+2CieEFuoe8",
      "include_colab_link": true
    },
    "kernelspec": {
      "name": "python3",
      "display_name": "Python 3"
    },
    "language_info": {
      "name": "python"
    }
  },
  "cells": [
    {
      "cell_type": "markdown",
      "metadata": {
        "id": "view-in-github",
        "colab_type": "text"
      },
      "source": [
        "<a href=\"https://colab.research.google.com/github/mschanke/Bridge-MP-HW/blob/main/BridgePythonHW01.ipynb\" target=\"_parent\"><img src=\"https://colab.research.google.com/assets/colab-badge.svg\" alt=\"Open In Colab\"/></a>"
      ]
    },
    {
      "cell_type": "code",
      "execution_count": 1,
      "metadata": {
        "colab": {
          "base_uri": "https://localhost:8080/"
        },
        "id": "JTwUS4lo6Gwj",
        "outputId": "eb3791b4-d00d-4be0-f0b8-9eed009c137b"
      },
      "outputs": [
        {
          "output_type": "stream",
          "name": "stdout",
          "text": [
            "Enter number: 33\n",
            "33 is \n",
            "ODD\n"
          ]
        }
      ],
      "source": [
        "# Mitchell Schanke\n",
        "# Bridge workshop  Math with Python\n",
        "# 7/14/2022      HW01\n",
        "\n",
        "#  get number\n",
        "num = int( input(\"Enter number: \"))\n",
        "\n",
        "# get remainder\n",
        "remd = num % 2\n",
        "\n",
        "# print if odd or even\n",
        "print( '{0} is '.format(num) )\n",
        "\n",
        "if remd == 0:\n",
        "    print( \"EVEN\" )\n",
        "else:\n",
        "    print( \"ODD\" )"
      ]
    }
  ]
}