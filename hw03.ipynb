{
  "nbformat": 4,
  "nbformat_minor": 0,
  "metadata": {
    "colab": {
      "name": "PythonHW03.ipynb",
      "provenance": [],
      "collapsed_sections": [],
      "authorship_tag": "ABX9TyMszcy3NwNL4ffYEvD52YPN",
      "include_colab_link": true
    },
    "kernelspec": {
      "name": "python3",
      "display_name": "Python 3"
    },
    "language_info": {
      "name": "python"
    }
  },
  "cells": [
    {
      "cell_type": "markdown",
      "metadata": {
        "id": "view-in-github",
        "colab_type": "text"
      },
      "source": [
        "<a href=\"https://colab.research.google.com/github/mschanke/Bridge-MP-HW/blob/main/PythonHW03.ipynb\" target=\"_parent\"><img src=\"https://colab.research.google.com/assets/colab-badge.svg\" alt=\"Open In Colab\"/></a>"
      ]
    },
    {
      "cell_type": "code",
      "execution_count": 1,
      "metadata": {
        "colab": {
          "base_uri": "https://localhost:8080/",
          "height": 235
        },
        "id": "foYgj4V4PRxA",
        "outputId": "17d398b0-544d-468b-ce33-23d87f60ae3e"
      },
      "outputs": [
        {
          "output_type": "error",
          "ename": "FileNotFoundError",
          "evalue": "ignored",
          "traceback": [
            "\u001b[0;31m---------------------------------------------------------------------------\u001b[0m",
            "\u001b[0;31mFileNotFoundError\u001b[0m                         Traceback (most recent call last)",
            "\u001b[0;32m<ipython-input-1-51bfa9d64c87>\u001b[0m in \u001b[0;36m<module>\u001b[0;34m()\u001b[0m\n\u001b[1;32m     11\u001b[0m \u001b[0;34m\u001b[0m\u001b[0m\n\u001b[1;32m     12\u001b[0m \u001b[0;31m# base 'main'\u001b[0m\u001b[0;34m\u001b[0m\u001b[0;34m\u001b[0m\u001b[0;34m\u001b[0m\u001b[0m\n\u001b[0;32m---> 13\u001b[0;31m \u001b[0mf\u001b[0m \u001b[0;34m=\u001b[0m \u001b[0mopen\u001b[0m\u001b[0;34m(\u001b[0m\u001b[0;34m\"myfile.txt\"\u001b[0m\u001b[0;34m,\u001b[0m \u001b[0;34m\"r\"\u001b[0m\u001b[0;34m)\u001b[0m\u001b[0;34m\u001b[0m\u001b[0;34m\u001b[0m\u001b[0m\n\u001b[0m\u001b[1;32m     14\u001b[0m \u001b[0;31m# print(f.read())\u001b[0m\u001b[0;34m\u001b[0m\u001b[0;34m\u001b[0m\u001b[0;34m\u001b[0m\u001b[0m\n\u001b[1;32m     15\u001b[0m \u001b[0;31m# f.write(\"test\")\u001b[0m\u001b[0;34m\u001b[0m\u001b[0;34m\u001b[0m\u001b[0;34m\u001b[0m\u001b[0m\n",
            "\u001b[0;31mFileNotFoundError\u001b[0m: [Errno 2] No such file or directory: 'myfile.txt'"
          ]
        }
      ],
      "source": [
        "# Mitchell Schanke\n",
        "# Bridge workshop  Math with Python\n",
        "# 7/14/2022      HW03\n",
        "# mean function\n",
        "def calculate_mean(numbers):\n",
        "    s = sum(numbers)\n",
        "    N = len(numbers)\n",
        "    mean = s / N\n",
        "    return mean\n",
        "\n",
        "\n",
        "# base 'main'\n",
        "f = open(\"myfile.txt\", \"r\")\n",
        "# print(f.read())\n",
        "# f.write(\"test\")\n",
        "\n",
        "lines = f.read().splitlines()\n",
        "\n",
        "print(lines)\n",
        "\n",
        "\n",
        "results = [int(i) for i in lines]\n",
        "\n",
        "results\n",
        "\n",
        "print( \"Mean: \" )\n",
        "print( calculate_mean(results))\n",
        "\n",
        "\n",
        "def calculate_median(numbers):\n",
        "\n",
        "    N = len(numbers)\n",
        "    numbers.sort()\n",
        "# Find the median\n",
        "    if N % 2 == 0:\n",
        "# if N is even\n",
        "        m1 = N/2\n",
        "        m2 = (N/2) + 1\n",
        "# Convert to integer, match position\n",
        "        m1 = int(m1) - 1\n",
        "        m2 = int(m2) - 1\n",
        "        median = (numbers[m1] + numbers[m2])/2\n",
        "    else:\n",
        "        m = (N+1)/2\n",
        "# Convert to integer, match position\n",
        "        m = int(m) - 1\n",
        "        median = numbers[m]\n",
        "    return median\n",
        "\n",
        "\n",
        "print( \"Median: \" )\n",
        "print( calculate_median(results) )\n",
        "\n",
        "def find_differences(numbers):\n",
        "   # Find the mean\n",
        "   mean = calculate_mean(numbers)\n",
        "   # Find the differences from the mean\n",
        "   diff = []\n",
        "\n",
        "   for num in numbers:\n",
        "      diff.append(num-mean)\n",
        "\n",
        "   return diff\n",
        "\n",
        "def calculate_variance(numbers):\n",
        "\n",
        "   # Find the list of differences\n",
        "   diff = find_differences(numbers)\n",
        "   # Find the squared differences\n",
        "   squared_diff = []\n",
        "   for d in diff:\n",
        "      squared_diff.append(d**2)\n",
        "   # Find the variance\n",
        "   sum_squared_diff = sum(squared_diff)\n",
        "   variance = sum_squared_diff/len(numbers)\n",
        "   return variance\n",
        "\n",
        "variance = calculate_variance(results)\n",
        "print('The variance of the list of numbers is {0}'.format(variance))\n",
        "std = variance**0.5\n",
        "print('The standard deviation of the list of numbers is {0}'.format(std))"
      ]
    }
  ]
}
