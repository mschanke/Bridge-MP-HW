{
  "nbformat": 4,
  "nbformat_minor": 0,
  "metadata": {
    "colab": {
      "name": "PythomHW02.ipynb",
      "provenance": [],
      "collapsed_sections": [],
      "authorship_tag": "ABX9TyNuARHtLZsfiSdGWGDVA3jx",
      "include_colab_link": true
    },
    "kernelspec": {
      "name": "python3",
      "display_name": "Python 3"
    },
    "language_info": {
      "name": "python"
    }
  },
  "cells": [
    {
      "cell_type": "markdown",
      "metadata": {
        "id": "view-in-github",
        "colab_type": "text"
      },
      "source": [
        "<a href=\"https://colab.research.google.com/github/mschanke/Bridge-MP-HW/blob/main/PythomHW02.ipynb\" target=\"_parent\"><img src=\"https://colab.research.google.com/assets/colab-badge.svg\" alt=\"Open In Colab\"/></a>"
      ]
    },
    {
      "cell_type": "code",
      "execution_count": 1,
      "metadata": {
        "colab": {
          "base_uri": "https://localhost:8080/"
        },
        "id": "Vp-g49UxMoUx",
        "outputId": "d25a0295-e05d-48d9-fbbf-33dfed46b3fa"
      },
      "outputs": [
        {
          "output_type": "stream",
          "name": "stdout",
          "text": [
            "x=-1 y=0\n",
            "x=1 y=4\n",
            "x=2 y=9\n",
            "x=3 y=16\n",
            "x=4 y=25\n",
            "x=5 y=36\n"
          ]
        }
      ],
      "source": [
        "# Mitchell Schanke\n",
        "# Bridge workshop  Math with Python\n",
        "# 7/14/2022      HW02\n",
        "\n",
        "x_values = [-1, 1, 2, 3, 4, 5]\n",
        "for x in x_values:\n",
        "    # Calculate the value of the quadratic function\n",
        "    y = x**2 + 2*x + 1\n",
        "    print('x={0} y={1}'.format(x, y))\n"
      ]
    }
  ]
}