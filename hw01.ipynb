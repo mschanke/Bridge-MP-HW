{
  "nbformat": 4,
  "nbformat_minor": 0,
  "metadata": {
    "colab": {
      "name": "hw01.ipynb",
      "provenance": [],
      "authorship_tag": "ABX9TyPkM0wd0IiDKXIRLS3WcT+5",
      "include_colab_link": true
    },
    "kernelspec": {
      "name": "python3",
      "display_name": "Python 3"
    },
    "language_info": {
      "name": "python"
    }
  },
  "cells": [
    {
      "cell_type": "markdown",
      "metadata": {
        "id": "view-in-github",
        "colab_type": "text"
      },
      "source": [
        "<a href=\"https://colab.research.google.com/github/mschanke/Bridge-MP-HW/blob/main/hw01.ipynb\" target=\"_parent\"><img src=\"https://colab.research.google.com/assets/colab-badge.svg\" alt=\"Open In Colab\"/></a>"
      ]
    },
    {
      "cell_type": "code",
      "execution_count": 1,
      "metadata": {
        "colab": {
          "base_uri": "https://localhost:8080/"
        },
        "id": "dLw3sWqim8r0",
        "outputId": "9b5fef26-1cff-49fd-9384-096d1f9bec72"
      },
      "outputs": [
        {
          "output_type": "stream",
          "name": "stdout",
          "text": [
            "Enter number: 67\n",
            "67 is \n",
            "ODD\n"
          ]
        }
      ],
      "source": [
        "# Mitchell Schanke\n",
        "# Bridge workshop  Math with Python\n",
        "# 7/14/2022      HW01\n",
        "\n",
        "#  get number\n",
        "num = int( input(\"Enter number: \"))\n",
        "\n",
        "# get remainder\n",
        "remd = num % 2\n",
        "\n",
        "# print if odd or even\n",
        "print( '{0} is '.format(num) )\n",
        "\n",
        "if remd == 0:\n",
        "    print( \"EVEN\" )\n",
        "else:\n",
        "    print( \"ODD\" )"
      ]
    },
    {
      "cell_type": "code",
      "source": [
        ""
      ],
      "metadata": {
        "id": "9gRNQqMo8OJx"
      },
      "execution_count": null,
      "outputs": []
    },
    {
      "cell_type": "code",
      "source": [
        ""
      ],
      "metadata": {
        "id": "ubeG5wa8nDov"
      },
      "execution_count": null,
      "outputs": []
    }
  ]
}